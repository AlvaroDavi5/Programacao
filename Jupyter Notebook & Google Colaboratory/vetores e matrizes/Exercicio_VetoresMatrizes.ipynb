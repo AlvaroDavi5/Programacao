{
  "nbformat": 4,
  "nbformat_minor": 0,
  "metadata": {
    "colab": {
      "name": "Exercicio_VetoresMatrizes.ipynb",
      "provenance": [],
      "collapsed_sections": []
    },
    "kernelspec": {
      "name": "python3",
      "display_name": "Python 3"
    }
  },
  "cells": [
    {
      "cell_type": "markdown",
      "metadata": {
        "id": "wQdY-wGkPt1W"
      },
      "source": [
        "Exercício:\n",
        "\n",
        "p = [3,1,0,4]\n",
        "\n",
        "q = [2,4,8,0]\n"
      ]
    },
    {
      "cell_type": "code",
      "metadata": {
        "id": "qZAAO9TXPrrk"
      },
      "source": [
        "import numpy as np\n",
        "import scipy"
      ],
      "execution_count": null,
      "outputs": []
    },
    {
      "cell_type": "code",
      "metadata": {
        "id": "K3954DZQQCT9"
      },
      "source": [
        "\n"
      ],
      "execution_count": null,
      "outputs": []
    },
    {
      "cell_type": "markdown",
      "metadata": {
        "id": "CFHWBbLZQdda"
      },
      "source": [
        "v = p + q\n",
        "\n",
        "a = p(quarto elemento) + q(segundo elemento)\n",
        "\n",
        "b = p(primeiro elemento:terceiro elemento)\n",
        "\n",
        "w = [p,q] (concatenação de p e q)"
      ]
    },
    {
      "cell_type": "code",
      "metadata": {
        "id": "lLPUUtY6RQ_w"
      },
      "source": [
        "p = np.array([3,1,0,4])\n",
        "q = np.array([2,4,8,0])\n",
        "print(\"p: \", p, '\\n')\n",
        "print(\"q: \", q, '\\n')\n",
        "\n",
        "v = p+q\n",
        "print(\"v: \", v, '\\n')\n",
        "\n",
        "a = p[3] + q[1]\n",
        "print(\"a = p[3] + q[1]: \", p[3], '+', q[1], '=', a, '\\n')\n",
        "\n",
        "b = p[0:3]\n",
        "print(\"b: \", b, '\\n')\n",
        "\n",
        "w = np.hstack((p, q))\n",
        "print(\"w: \", w, '\\n')"
      ],
      "execution_count": null,
      "outputs": []
    },
    {
      "cell_type": "markdown",
      "metadata": {
        "id": "fLPViMPbRk3Z"
      },
      "source": [
        "M = matriz de uns 4x6\n",
        "\n",
        "M2 = 2 x M\n",
        "\n",
        "Mudar segunda linha de M2 para [3,8,4.5,0,9,7]\n",
        "\n",
        "M3 = transposta de M2"
      ]
    },
    {
      "cell_type": "code",
      "metadata": {
        "id": "QthpKqUCT0Vr"
      },
      "source": [
        "M = np.ones((4,6))\n",
        "print(\"M: \\n\", M, '\\n')\n",
        "\n",
        "M2 = np.ones((4,6))\n",
        "M2 = 2*M\n",
        "print(\"M2: \\n\", M2, '\\n')\n",
        "\n",
        "M2 = np.vstack((M2[0:1], [3,8,4.5,0,9,7],M2[1:-1]))\n",
        "print(\"M2: \\n\", M2, '\\n')\n",
        "\n",
        "M3 = np.transpose(M2)\n",
        "print(\"M3: \\n\", M3, '\\n')"
      ],
      "execution_count": null,
      "outputs": []
    },
    {
      "cell_type": "markdown",
      "metadata": {
        "id": "FsqDEuYmUC3r"
      },
      "source": [
        "Criar as matrizes:\n",
        "\n",
        "> \n",
        "$T = \\begin{bmatrix}\n",
        "1 & 0 & 0  & 4 \\\\ \n",
        "0 & 1 & 0  & -1 \\\\ \n",
        "0 & 0  & 1  & 3 \\\\ \n",
        "0 & 0 & 0  & 1 \\\\ \n",
        "\\end{bmatrix}$\n",
        "\n",
        "$R = \\begin{bmatrix}\n",
        "cos(90) & -sen(90) & 0  & 0 \\\\ \n",
        "sen(90) & cos(90) & 0  & 0 \\\\ \n",
        "0 & 0  & 1  & 0 \\\\ \n",
        "0 & 0 & 0  & 1 \\\\ \n",
        "\\end{bmatrix}$\n",
        "\n",
        "$v1 = [1,0,0,0]$\n",
        "\n",
        "$p = [1,3,0,1]$\n",
        "\n",
        "$obj = \\begin{bmatrix}\n",
        "0 & 1 & 1  & 0 \\\\ \n",
        "0 & 0 & 1  & 1 \\\\ \n",
        "0 & 0 & 0  & 0 \\\\ \n",
        "1 & 1 & 1  & 1 \\\\ \n",
        "\\end{bmatrix}$\n",
        "\n",
        "$p1 = T.p$\n",
        "\n",
        "$v2 = T.v1$\n",
        "\n",
        "$v3 = R.v1$\n",
        "\n",
        "$M1 = T.R$\n",
        "\n",
        "$M2 = R.T$\n",
        "\n",
        "$obj1 = T.obj$\n",
        "\n",
        "$obj2 = M1.obj$\n",
        "\n",
        "\n",
        "\n",
        "\n"
      ]
    },
    {
      "cell_type": "code",
      "metadata": {
        "id": "JwjILlBEYffP"
      },
      "source": [
        "#from numpy import pi\n",
        "\n",
        "T = np.eye(4, dtype=int)\n",
        "T[0,3] = 4\n",
        "T[1,3] = -1\n",
        "T[2,3] = 3\n",
        "print(\"T: \\n\", T, '\\n')\n",
        "\n",
        "R = np.array([\n",
        "    [np.cos((np.pi)/2), -1*np.sin((np.pi)/2), 0, 0],\n",
        "    [np.sin((np.pi)/2), np.cos((np.pi)/2), 0, 0],\n",
        "    [0, 0, 1, 0],\n",
        "    [0, 0, 0, 1]\n",
        "]) # scipy removera funcoes trigonimetricas, usa-se numpy\n",
        "\n",
        "v1 = np.array([1,0,0,0]) \n",
        "p = np.array([1,3,0,1])\n",
        "\n",
        "obj = np.matrix(\"0 1 1 0; 0 0 1 1; 0 0 0 0; 1 1 1 1\")\n",
        "print(\"obj: \\n\", obj, '\\n')\n",
        "\n",
        "p1 = np.dot(T,p)\n",
        "v2 = np.dot(T,v1)\n",
        "v3 = np.dot(R,v1)\n",
        "M1 = np.dot(T,R)\n",
        "M2 = np.dot(R,T)\n",
        "obj1 = np.dot(T,obj)\n",
        "obj2 = np.dot(M1,obj)\n",
        "\n",
        "print(\"M1: \\n\", M1, '\\n')\n",
        "print(\"obj1: \\n\", obj1, '\\n')\n",
        "print(\"obj2: \\n\", obj2, '\\n')"
      ],
      "execution_count": null,
      "outputs": []
    }
  ]
}