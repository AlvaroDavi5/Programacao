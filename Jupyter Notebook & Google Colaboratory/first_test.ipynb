{
  "nbformat": 4,
  "nbformat_minor": 0,
  "metadata": {
    "colab": {
      "name": "first_test.ipynb",
      "provenance": [],
      "collapsed_sections": []
    },
    "kernelspec": {
      "name": "python3",
      "display_name": "Python 3"
    }
  },
  "cells": [
    {
      "cell_type": "markdown",
      "metadata": {
        "id": "giW897r6CRbG"
      },
      "source": [
        "## _Isso é um texto em **Markdown**_"
      ]
    },
    {
      "cell_type": "markdown",
      "metadata": {
        "id": "vEnNazmpXwDU"
      },
      "source": [
        "<h1>Isso é um texto em <b>HTML<b><h1>"
      ]
    },
    {
      "cell_type": "code",
      "metadata": {
        "id": "-FWmiSVXBk3H",
        "colab": {
          "base_uri": "https://localhost:8080/"
        },
        "outputId": "4cc65d10-807b-430d-f2c4-cefc43a45252"
      },
      "source": [
        "print(\"Isto é uma linha de código em Python\\n\")"
      ],
      "execution_count": 5,
      "outputs": [
        {
          "output_type": "stream",
          "text": [
            "Isto é uma linha de código em Python\n",
            "\n"
          ],
          "name": "stdout"
        }
      ]
    },
    {
      "cell_type": "markdown",
      "metadata": {
        "id": "Y61TQ9zDFAgz"
      },
      "source": [
        "<bottom type=\"buttom\">Clique aqui</input>"
      ]
    }
  ]
}