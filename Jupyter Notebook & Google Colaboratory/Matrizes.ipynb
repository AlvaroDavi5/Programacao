{
  "nbformat": 4,
  "nbformat_minor": 0,
  "metadata": {
    "colab": {
      "name": "Matrizes.ipynb",
      "provenance": [],
      "collapsed_sections": []
    },
    "kernelspec": {
      "name": "python3",
      "display_name": "Python 3"
    }
  },
  "cells": [
    {
      "cell_type": "markdown",
      "metadata": {
        "id": "cKLwLyzUKouu"
      },
      "source": [
        "#Básico de Vetores e Matrizes para Transformações Geométricas \n",
        "#Parte 2 - Matrizes\n",
        "\n",
        "Esse notebook traz as operações básicas para se criar e manipular matrizes."
      ]
    },
    {
      "cell_type": "markdown",
      "metadata": {
        "id": "-GujEo3CK3Bx"
      },
      "source": [
        "#Bibliotecas \n",
        "\n",
        "A biblioteca principal é a Numpy, a qual é uma parte do Scypi \"Python-based ecosystem of open-source software for mathematics, science, and engineering\"."
      ]
    },
    {
      "cell_type": "markdown",
      "metadata": {
        "id": "rpObWY38K4eh"
      },
      "source": [
        "Para começar qualquer código, nós temos que primeiro importa as bibliotecas:"
      ]
    },
    {
      "cell_type": "code",
      "metadata": {
        "id": "t7c8v9j0KWjM"
      },
      "source": [
        "import numpy as np\n",
        "import scipy\n",
        "import matplotlib.pyplot as plt"
      ],
      "execution_count": null,
      "outputs": []
    },
    {
      "cell_type": "markdown",
      "metadata": {
        "id": "0oUXMQBXLHi2"
      },
      "source": [
        "## Matrizes\n",
        "Vetores bidimensionais são chamados de matrizes.\n",
        "Em transformações geométricas, as transformações são representadas na forma de matrizes, assim como objetos a serem transformados."
      ]
    },
    {
      "cell_type": "markdown",
      "metadata": {
        "id": "jf1vrr5jLirj"
      },
      "source": [
        "Uma matriz $\\mathbf{\\mathit{A}}$ é definida como:\n",
        "> \\begin{bmatrix}\n",
        "a_{11} & a_{12} & \\cdots  & a_{1n} \\\\ \n",
        "a_{21} & a_{22} & \\cdots  & a_{2n} \\\\ \n",
        "\\vdots & \\vdots  & \\vdots  & \\vdots \\\\ \n",
        "a_{m1} & a_{m2} & \\cdots  & a_{mn} \\\\ \n",
        "\\end{bmatrix}\n"
      ]
    },
    {
      "cell_type": "markdown",
      "metadata": {
        "id": "DN56KqFJLnvo"
      },
      "source": [
        "As dimensões de uma matriz são normalmente expressas como  $m \\times n$, sendo  $m$ o número de linhas e $n$ o número de colunas. Se $m=n$, a matriz é chamada de matrix quadrada.\n",
        "Em Python, usando Numpy, podemos criar uma matriz como:"
      ]
    },
    {
      "cell_type": "code",
      "metadata": {
        "id": "qLcB8eqdMG5c"
      },
      "source": [
        "A = np.array([[1,2,3,0],[4,5,6,0],[7.3,8,9,1],[4,7,3,1.6],[1.4,5,0,7.9]])\n",
        "print(A)"
      ],
      "execution_count": null,
      "outputs": []
    },
    {
      "cell_type": "markdown",
      "metadata": {
        "id": "f8ZyPsclMY_1"
      },
      "source": [
        "Também no caso de matrizes, podemos visualizar algumas de suas informações usando os seguintes métodos:"
      ]
    },
    {
      "cell_type": "code",
      "metadata": {
        "id": "x0dpIy7bMiCs"
      },
      "source": [
        "print('Data type:', A.dtype)\n",
        "print('Matrix size:', A.size)\n",
        "print('Matrix size:', A.shape)\n",
        "print('Rows:', A.shape[0], ' Columns: ', A.shape[1])\n",
        "print('Data: \\n', A)"
      ],
      "execution_count": null,
      "outputs": []
    },
    {
      "cell_type": "markdown",
      "metadata": {
        "id": "2s9FkeCuMlZG"
      },
      "source": [
        "Para selecionar um elemento, uma linha ou coluna de matriz, basta fazer o seguinte:"
      ]
    },
    {
      "cell_type": "code",
      "metadata": {
        "id": "hRjKpGSlMsne"
      },
      "source": [
        "print(A)\n",
        "#Elemento da quarta linha e terceira coluna\n",
        "a43 = A[3,2]\n",
        "print(\"Elemento a43: \", a43)\n",
        "#primeira linha da matrix\n",
        "l = A[0,:]\n",
        "print(\"Primeira linha: \", l)\n",
        "# terceira coluna\n",
        "c = A[:,2]\n",
        "print(\"Terceira coluna: \", c)\n",
        "# Selecionando uma submatrix \n",
        "s = A[0:4,2:4]\n",
        "print(\"Submatrix:\\n\",s)\n"
      ],
      "execution_count": null,
      "outputs": []
    },
    {
      "cell_type": "markdown",
      "metadata": {
        "id": "tQfpMe4XOG5N"
      },
      "source": [
        "#Atenção: \n",
        "###Em Numpy, a primeira linha ou coluna da matrix possui índice 0 (zero), enquanto a última linha possui índice igual a m-1, e a última coluna índice n-1.\n",
        "###Quando for definir um intervalo de seleção [k:w], o índice k está incluso e o índice w não está incluso."
      ]
    },
    {
      "cell_type": "markdown",
      "metadata": {
        "id": "jgjdt_qzPM9b"
      },
      "source": [
        "## Operações básicas com matrizes\n",
        "Podemos realizar com matrizes operações semelhantes às que fizemos com vetores. A principal diferença é a maneira como aplicamos essas operações. "
      ]
    },
    {
      "cell_type": "markdown",
      "metadata": {
        "id": "EXrrQ1VWPlbZ"
      },
      "source": [
        "### Adição\n",
        "Para somar duas matrizes $\\mathbf{\\mathit{A}}$ e $\\mathbf{\\mathit{B}}$, ambas devem possuir as mesmas dimensões. A operação de adição acontece elemento a elemento e resulta numa matriz C com as mesmas dimensões de  $\\mathbf{\\mathit{A}}$ e $\\mathbf{\\mathit{B}}$. \n",
        "\n",
        ">$C = A + B$\n",
        "\n",
        "Exemplo:"
      ]
    },
    {
      "cell_type": "code",
      "metadata": {
        "id": "-AeGv1P1PMH3"
      },
      "source": [
        "A = np.array([[1,2,3],[4,5,6],[7,8,9]])\n",
        "B = np.array([[1,1,1],[0,0,0],[1,1,1]])\n",
        "C = A+B\n",
        "print(A, '\\n')\n",
        "print(B, '\\n')\n",
        "print(C)"
      ],
      "execution_count": null,
      "outputs": []
    },
    {
      "cell_type": "markdown",
      "metadata": {
        "id": "RO--L3xYQNyS"
      },
      "source": [
        "### Subtração\n",
        "Similar à adição, para subtrair uma matriz $\\mathbf{\\mathit{B}}$ de uma matriz $\\mathbf{\\mathit{A}}$ é preciso que ambas poossuam as mesmas dimensões. O resultado é uma matriz $\\mathbf{\\mathit{C}}$ com a mesma forma de $\\mathbf{\\mathit{A}}$ e $\\mathbf{\\mathit{B}}$. \n",
        "> $C = A - B$\n",
        "\n",
        "Veja o exemplo onde subtraimos a matriz $\\mathbf{\\mathit{B}}$ da matriz  $\\mathbf{\\mathit{A}}$:"
      ]
    },
    {
      "cell_type": "code",
      "metadata": {
        "id": "ATog4IPCQ4Ex"
      },
      "source": [
        "A = np.array([[1, 2, 3],[4, 5, 6], [7, 8, 9]])\n",
        "B = np.array([[-1,-1,-1], [1,1,1], [1,1,1]])\n",
        "C = A - B\n",
        "print(A, '\\n')\n",
        "print(B, '\\n')\n",
        "print(C)"
      ],
      "execution_count": null,
      "outputs": []
    },
    {
      "cell_type": "markdown",
      "metadata": {
        "id": "aNVwC7CmRVRr"
      },
      "source": [
        "### Multiplicação de matraizes\n",
        "\n",
        "Considere duas matrizes : $\\mathbf{\\mathit{A}}$ de tamanho $m \\times  n$  e $\\mathbf{\\mathit{B}}$ de tamanho $n \\times p$. Essas matrizes,  m x n e n x p são compatíveis para se realizar a multiplicação. O resultado será uma matriz de tamanho m x p. \n",
        "\n",
        "> $C_{m \\times p} =A_{m \\times n} . B_{n \\times p}$\n",
        "\n",
        "Cada elemento de $C$ é dado por:\n",
        "> $c_{i,j}=\\sum_{k=1}^{n}a_{i,k}b_{k,j}$\n",
        "\n",
        "Como a multiplicação de matrizes depende da ordem de multiplicação, reverter a multiplicação pode gerar um resultado diferente ou uma multiplicação inválida, devido a não compatibilidade de tamanhos.\n",
        "\n",
        "Exemplo de como realizar a multiplicação:"
      ]
    },
    {
      "cell_type": "code",
      "metadata": {
        "id": "GoXaC9ZTSWBv"
      },
      "source": [
        "# Matriz (2x3)\n",
        "A = np.array([[1,2,3],[4,5,6]])\n",
        "# Matriz (3x2)\n",
        "B = np.array([[1,0],[0,1],[1,0]])\n",
        "C=np.dot(A,B) # tamanho resultante (2x2), no caso de vetores np.dot() devolve produto interno; no caso de matrizes np.dot() devolve multiplicacao de matrizes\n",
        "print(A, '\\n')\n",
        "print(B, '\\n')\n",
        "print(C, '\\n')"
      ],
      "execution_count": null,
      "outputs": []
    },
    {
      "cell_type": "markdown",
      "metadata": {
        "id": "omDoMohzSqld"
      },
      "source": [
        "##Usando np.matrix ao invés de np.array\n",
        "Ao invés de usarmos np.array, também podemos criar matrizes usando np.matrix e realizar as operações de adição, subtração e multiplicação."
      ]
    },
    {
      "cell_type": "code",
      "metadata": {
        "id": "fkolxvxvTEnu"
      },
      "source": [
        "A = np.matrix('1 2 3; 4 5 6')\n",
        "B = np.matrix('1 0; 0 1; 1 0')\n",
        "print(A)\n",
        "print('Matrix shape:',A.shape, '\\n')\n",
        "print(B)\n",
        "print('Matrix shape:',B.shape, '\\n')\n"
      ],
      "execution_count": null,
      "outputs": []
    },
    {
      "cell_type": "markdown",
      "metadata": {
        "id": "L3qe5YuFTOUC"
      },
      "source": [
        "###Adição"
      ]
    },
    {
      "cell_type": "code",
      "metadata": {
        "id": "3LttJ5iITQwR"
      },
      "source": [
        "A = np.matrix('1 2 3; 4 5 6')\n",
        "B = np.matrix('1 1 1; 0 0 1')\n",
        "C = A+B\n",
        "print(A, '\\n')\n",
        "print(B, '\\n')\n",
        "print(C, '\\n')"
      ],
      "execution_count": null,
      "outputs": []
    },
    {
      "cell_type": "markdown",
      "metadata": {
        "id": "mhx_ZK0XTUFS"
      },
      "source": [
        "###Subtração"
      ]
    },
    {
      "cell_type": "code",
      "metadata": {
        "id": "Ufi4WNh-TZQF"
      },
      "source": [
        "A = np.matrix('1 2 3; 4 5 6')\n",
        "B = np.matrix('1 1 1; -1 1 -1')\n",
        "C = A-B\n",
        "print(A, '\\n')\n",
        "print(B, '\\n')\n",
        "print(C, '\\n')"
      ],
      "execution_count": null,
      "outputs": []
    },
    {
      "cell_type": "markdown",
      "metadata": {
        "id": "c-60a5WyTgMY"
      },
      "source": [
        "###Multiplicação\n",
        "Note a diferença entre usar np.array e np.matrix para essa operação."
      ]
    },
    {
      "cell_type": "code",
      "metadata": {
        "id": "Dq81tm1gTqo9"
      },
      "source": [
        "A = np.matrix('1 2 3; 4 5 6')\n",
        "B = np.matrix('1 0; 0 1; 1 0')\n",
        "C = A*B\n",
        "D = np.dot(A,B)\n",
        "print(A, '\\n')\n",
        "print(B, '\\n')\n",
        "print(C, '\\n')\n",
        "print(D, '\\n')"
      ],
      "execution_count": null,
      "outputs": []
    },
    {
      "cell_type": "markdown",
      "metadata": {
        "id": "z-lxuaLAWrd1"
      },
      "source": [
        "## Propriedades de matrizes\n",
        "Vamos ver algumas propriedades e ainda mais algumas operações."
      ]
    },
    {
      "cell_type": "markdown",
      "metadata": {
        "id": "4iDpHXHUXJXE"
      },
      "source": [
        "### Matriz Transposta\n",
        "Quando trocamos as linhas pelas colunas de uma matriz $A$, estamos fazendo a sua transposta, representada por $A^T$.\n",
        "Exemplo:"
      ]
    },
    {
      "cell_type": "code",
      "metadata": {
        "id": "nrBtTevCXlao"
      },
      "source": [
        "# usando np.array\n",
        "A = np.array([[0, 2, 1],[4, 5, 6]])\n",
        "print('Matrix A:')\n",
        "print(A, '\\n')\n",
        "print('A_transpose:')\n",
        "print(np.transpose(A))\n",
        "#outra forma\n",
        "print('A_transpose: \\n', A.T, '\\n')\n",
        "#usando np.matrix\n",
        "B = np.matrix ('1 2 3; 8 8 8')\n",
        "print('Matrix B:')\n",
        "print(B, '\\n')\n",
        "print('B_transpose:')\n",
        "print(np.transpose(B))\n",
        "#outra forma\n",
        "print('B_transpose: \\n',B.T)"
      ],
      "execution_count": null,
      "outputs": []
    },
    {
      "cell_type": "markdown",
      "metadata": {
        "id": "Oyk_v_UrYZ6y"
      },
      "source": [
        "### Matriz Identidade\n",
        "Matriz quadrada que possui os elementos da diagonal iguais a $1$ e os demais elementos iguais a $0$ (zero).\n",
        "\n",
        "Para criar uma matriz identidade:"
      ]
    },
    {
      "cell_type": "code",
      "metadata": {
        "id": "71Jm_xNQYt8z"
      },
      "source": [
        "I = np.identity(3) #size of identity matrix\n",
        "print(I,'\\n')\n",
        "I = np.identity(15) #size of identity matrix\n",
        "print(I)"
      ],
      "execution_count": null,
      "outputs": []
    },
    {
      "cell_type": "markdown",
      "metadata": {
        "id": "WMBkQwUIZDos"
      },
      "source": [
        "### Matriz Zero\n",
        "Para criar uma matriz de zeros, ou mesmo um vetor de zeros:"
      ]
    },
    {
      "cell_type": "code",
      "metadata": {
        "id": "UuericV-ZOQH"
      },
      "source": [
        "#matriz de zeros 3x4\n",
        "A = np.zeros((3,5))\n",
        "print(\"Matriz de zeros: \\n\",A)\n",
        "#vetor linha de zeros\n",
        "v = np.zeros((3))\n",
        "print(\"Vetor linha de zeros: \\n\",v)\n",
        "#vetor coluna de zeros\n",
        "v = np.zeros((4,1))\n",
        "print(\"Vetor coluna de zeros: \\n\",v)\n"
      ],
      "execution_count": null,
      "outputs": []
    },
    {
      "cell_type": "markdown",
      "metadata": {
        "id": "q4dIPxutZ_A0"
      },
      "source": [
        "###Matriz de uns\n",
        "Para criar uma matriz ou vetor de uns:"
      ]
    },
    {
      "cell_type": "code",
      "metadata": {
        "id": "GcSmbiCDaF_m"
      },
      "source": [
        "#matriz de uns 3x4\n",
        "A = np.ones((6,4))\n",
        "print(\"Matriz de uns: \\n\",A)\n",
        "#vetor linha de uns\n",
        "v = np.ones((9))\n",
        "print(\"Vetor linha de uns: \\n\",v)\n",
        "#vetor coluna de uns\n",
        "v = np.ones((3,1))\n",
        "print(\"Vetor coluna de uns: \\n\",v)"
      ],
      "execution_count": null,
      "outputs": []
    },
    {
      "cell_type": "markdown",
      "metadata": {
        "id": "tZvDlYr4Z9ko"
      },
      "source": [
        "### Inversa de uma matriz quadrada\n",
        "A matriz inversa é normalmente definida como $A^{-1}$, e possui a seguinte propriedade:\n",
        "> $AA^{-1} = I = A^{-1}A$"
      ]
    },
    {
      "cell_type": "markdown",
      "metadata": {
        "id": "l4ehi4y2asbZ"
      },
      "source": [
        "A matriz inversa é única para cada matriz. Entretanto, nem todas as matrizes são inversíveis.\n",
        "\n",
        "Para calcular a inversa de uma matriz quadrada, usamos o seguinte:"
      ]
    },
    {
      "cell_type": "code",
      "metadata": {
        "id": "mxMZPwVJajJB"
      },
      "source": [
        "A = np.array([[1, 2, 3],[5, 4, 6], [9, 8, 7]])\n",
        "# como calcular a inversa\n",
        "A_inv = np.linalg.inv(A)\n",
        "print(\"matrix A:\\n\",A, '\\n')\n",
        "print(\"inversa de A:\\n\",A_inv, '\\n')\n",
        "# repare que se multiplicar A pela sua inversa obtemos a identidade\n",
        "print(\"A * A_inv:\\n\", np.dot(A,A_inv))"
      ],
      "execution_count": null,
      "outputs": []
    },
    {
      "cell_type": "markdown",
      "metadata": {
        "id": "9OG2NhlKg0Hl"
      },
      "source": [
        "###Criando matrizes ou vetores com valores randômicos\n"
      ]
    },
    {
      "cell_type": "code",
      "metadata": {
        "id": "PgoRq6Kug5t2"
      },
      "source": [
        "#matriz com valores randomicos\n",
        "A = np.random.rand(4,6)\n",
        "print(\"A:\\n\",A, '\\n')\n",
        "\n",
        "#vetor com valores randomicos\n",
        "v = np.random.rand(7)\n",
        "print(\"v:\\n\",v)"
      ],
      "execution_count": null,
      "outputs": []
    },
    {
      "cell_type": "markdown",
      "metadata": {
        "id": "wnh-h4VTbnCq"
      },
      "source": [
        "###Acrescentando linhas ou colunas a matrizes\n",
        "\n",
        "Para acrescentar uma linha a uma matriz:"
      ]
    },
    {
      "cell_type": "code",
      "metadata": {
        "id": "BFx0bzMtbyXp"
      },
      "source": [
        "A = np.array([[1, 2, 3],[4, 5, 6], [7, 8, 9]])\n",
        "print(\"A:\\n\",A)\n",
        "#acrescentando um linha no final\n",
        "A = np.vstack([A,[0,0,1]])\n",
        "print(\"A:\\n\",A)\n",
        "#acrescentando uma coluna no final\n",
        "A = np.hstack((A,[[3],[0],[7],[2]]))\n",
        "print(\"A:\\n\",A)\n",
        "#acrescentando uma linha no meio da matriz\n",
        "A = np.vstack([A[0:1],[3,3,3,3],A[1:4]])\n",
        "print(\"A:\\n\",A)\n",
        "#acrescentando uma coluna no meio da matriz\n",
        "A = np.hstack([A[:,0:3],np.array([[0],[0],[0],[0],[0]]),A[:,3:4]])\n",
        "print(\"A:\\n\",A)"
      ],
      "execution_count": null,
      "outputs": []
    },
    {
      "cell_type": "markdown",
      "metadata": {
        "id": "M5-Tq8qQfWMN"
      },
      "source": [
        "### Eliminado linhas ou colunas"
      ]
    },
    {
      "cell_type": "code",
      "metadata": {
        "id": "mXg61At9faJl"
      },
      "source": [
        "A = np.random.rand(5,4)\n",
        "print(\"A:\\n\",A)\n",
        "A = np.delete(A, 1, 0) # o valor zero no último elemento representa o eixo horizontal -> linha\n",
        "print(\"A:\\n\",A)\n",
        "A = np.delete(A, 2, 1) # o valor um no último elemento representa o eixo vertical -> coluna\n",
        "print(\"A:\\n\",A)"
      ],
      "execution_count": null,
      "outputs": []
    }
  ]
}