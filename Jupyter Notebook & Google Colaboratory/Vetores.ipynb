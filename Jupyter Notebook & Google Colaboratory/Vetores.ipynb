{
  "nbformat": 4,
  "nbformat_minor": 0,
  "metadata": {
    "colab": {
      "name": "Vetores.ipynb",
      "provenance": [],
      "collapsed_sections": []
    },
    "kernelspec": {
      "name": "python3",
      "display_name": "Python 3"
    }
  },
  "cells": [
    {
      "cell_type": "markdown",
      "metadata": {
        "id": "f75rkqn0g0bc"
      },
      "source": [
        "#Básico de Vetores e Matrizes para Transformações Geométricas \n",
        "#Parte 1 - Vetores\n",
        "\n",
        "Transformações Geométricas são feitas usando-se vetores e matrices.\n",
        "Esse notebook traz as operações básicas para se criar e manipular vetores."
      ]
    },
    {
      "cell_type": "markdown",
      "metadata": {
        "id": "vLSHuSmFhQx_"
      },
      "source": [
        "#Bibliotecas \n",
        "\n",
        "A biblioteca principal é a Numpy, a qual é uma parte do Scypi \"Python-based ecosystem of open-source software for mathematics, science, and engineering\"."
      ]
    },
    {
      "cell_type": "markdown",
      "metadata": {
        "id": "ROinETS2hi3T"
      },
      "source": [
        "Para começar qualquer código, nós temos que primeiro importa as bibliotecas:"
      ]
    },
    {
      "cell_type": "code",
      "metadata": {
        "id": "Msirx8PYgURU"
      },
      "source": [
        "import numpy as np\n",
        "import scipy\n",
        "import matplotlib.pyplot as plt # maneira curta de chamar a biblioteca"
      ],
      "execution_count": null,
      "outputs": []
    },
    {
      "cell_type": "markdown",
      "metadata": {
        "id": "bDUqOtdVh2ck"
      },
      "source": [
        "## Declarando Vetores\n",
        "\n",
        "Em 2D, no plano cartesiano vetores e pontos são representados da mesma forma. \n",
        "> $p=(x,y)^T$ \\\\\n",
        "> $v=(x,y)^T$\n",
        "\n",
        "A magnitude de um vetor $v$ é definida como  $\\left \\| v \\right \\|$ e calculada como: \n",
        ">  $\\left \\| v \\right \\|=\\sqrt{x^{2}+y^{2}}$.\n",
        "\n",
        "\n",
        "Mas se quisermos representar pontos e vetores em coordenadas homogêneas, usamos mais uma coordenada. No caso dos pontos, esse coordenada extra é 1 e no caso de vetores é 0.\n",
        "\n",
        "> $p=(x,y,1)^T$ \\\\\n",
        "> $v=(x,y,0)^T$\n"
      ]
    },
    {
      "cell_type": "markdown",
      "metadata": {
        "id": "1kaO1rgKjxUt"
      },
      "source": [
        "Para usar a biblioteca Numpy, vamos declarar um ponto como um numpy array, com um python array como argumento. Desta forma: "
      ]
    },
    {
      "cell_type": "code",
      "metadata": {
        "id": "qmLMYTuVkLjO"
      },
      "source": [
        "#como vetor linha\n",
        "v_row = np.array([4,2,3,6, 13,-4, 7.8])\n",
        "print(\"row= \", v_row)\n",
        "#como vetor coluna\n",
        "v_col = np.array([[1],[2],[3],[-5],[0]])\n",
        "print(\"col= \\n\", v_col)"
      ],
      "execution_count": null,
      "outputs": []
    },
    {
      "cell_type": "markdown",
      "metadata": {
        "id": "bHdBZ8euliaN"
      },
      "source": [
        "Algumas informações sobre vetores como data type, array size e data content, podem ser conseguidas usando os seguintes métodos:"
      ]
    },
    {
      "cell_type": "code",
      "metadata": {
        "id": "bGPQnB8wlytb"
      },
      "source": [
        "print('Data type:', v_row.dtype)\n",
        "print('Vector size:',v_row.size)\n",
        "print('Data: \\n', v_row)\n",
        "print(\"\")\n",
        "print('Data type:', v_col.dtype)\n",
        "print('Vector size:',v_col.size)\n",
        "print('Data: \\n', v_col)"
      ],
      "execution_count": null,
      "outputs": []
    },
    {
      "cell_type": "markdown",
      "metadata": {
        "id": "Eik5viNkIijz"
      },
      "source": [
        "Como selecionar um elemento de um vetor:"
      ]
    },
    {
      "cell_type": "code",
      "metadata": {
        "id": "Kq-cOli4Iulq"
      },
      "source": [
        "p = np.array([-1,1,2,3,4,5,6,7,0,9,12.5])\n",
        "print(\"Primeiro elemento do vetor: \",p[0])\n",
        "print(\"O quarto elemento do vetor: \",p[3])\n",
        "print(\"O último elemento do vetor: \",p[-1])\n"
      ],
      "execution_count": null,
      "outputs": []
    },
    {
      "cell_type": "markdown",
      "metadata": {
        "id": "olijb-9LJJ7_"
      },
      "source": [
        "#Atenção: \n",
        "###Em Numpy, o primeiro índice de um vetor é 0 (zero)."
      ]
    },
    {
      "cell_type": "markdown",
      "metadata": {
        "id": "tEw9g0-sl_eC"
      },
      "source": [
        "## Operações e propriedades de vetores\n",
        "Algumas operações e propriedades de vetores que veremos são:\n",
        "\n",
        "* Adição\n",
        "* Subtração\n",
        "* Multiplicação\n",
        "* Norma do vetor\n",
        "* Ortogonalidade"
      ]
    },
    {
      "cell_type": "markdown",
      "metadata": {
        "id": "BlpkPi_PmXgn"
      },
      "source": [
        "### Adição\n",
        "Considere os seguintes dois vetores:"
      ]
    },
    {
      "cell_type": "code",
      "metadata": {
        "id": "ufJJbq8-mjjx"
      },
      "source": [
        "v1 = np.array([2.46,3.09,4.5,5.3])\n",
        "v2 = np.array([1.3,1.3,1.3,1.3])"
      ],
      "execution_count": null,
      "outputs": []
    },
    {
      "cell_type": "markdown",
      "metadata": {
        "id": "p3M-SdjKmnkg"
      },
      "source": [
        "A soma de elemento a elemento dos dois vetores pode ser calculada como:"
      ]
    },
    {
      "cell_type": "code",
      "metadata": {
        "id": "g4_lGuhwmzov"
      },
      "source": [
        "v12 = v1 + v2\n",
        "print(v1)\n",
        "print(v2)\n",
        "print(v12)\n"
      ],
      "execution_count": null,
      "outputs": []
    },
    {
      "cell_type": "markdown",
      "metadata": {
        "id": "Yi4OWD2cm-CP"
      },
      "source": [
        "### Subtração\n",
        "A subtração é similar a adição e é calculada elemento a elemento."
      ]
    },
    {
      "cell_type": "code",
      "metadata": {
        "id": "whMBP21vnLQO"
      },
      "source": [
        "v12 = v1-v2\n",
        "print(v1)\n",
        "print(v2)\n",
        "print(v12)"
      ],
      "execution_count": null,
      "outputs": []
    },
    {
      "cell_type": "markdown",
      "metadata": {
        "id": "_F4y0qJhnWQy"
      },
      "source": [
        "### Multiplicação de vetores\n",
        "Há duas maneiras de se multiplicar vetores:\n",
        "* Multiplicação por um escalar\n",
        "* Produto Interno (Dot product)\n",
        "* Produto Vetorial (Cross product)"
      ]
    },
    {
      "cell_type": "markdown",
      "metadata": {
        "id": "uUY0sg9KmGO8"
      },
      "source": [
        "#### Multiplicação por escalar"
      ]
    },
    {
      "cell_type": "code",
      "metadata": {
        "id": "MwQGapAAl9Wm"
      },
      "source": [
        "escalar = 3\n",
        "vetor = np.array([1, 2, 3])\n",
        "\n",
        "print(escalar * vetor)"
      ],
      "execution_count": null,
      "outputs": []
    },
    {
      "cell_type": "markdown",
      "metadata": {
        "id": "wC-QXdZjnsn7"
      },
      "source": [
        "#### Produto Interno\n",
        "\n",
        "> $dot\\left ( V_1 , V_2 \\right )= V_1 . V_2 = {\\sum_{i}{v_{1}^{i} .  v_{2}^{i}}}$\n",
        "\n",
        "onde $v_{1}^{i}$ and $v_{2}^{i}$  são os elementos dos vetores $V_{1}$ e $V_{2}$ respectivamente\n",
        "\n",
        "Outra notação comumente usada é:\n",
        "> ${V_1}^T V_2 = V_1 . V_2$"
      ]
    },
    {
      "cell_type": "markdown",
      "metadata": {
        "id": "4-_lbH1qoFij"
      },
      "source": [
        "Em Python, podemos calcular o produto interno usando o Numpy:"
      ]
    },
    {
      "cell_type": "code",
      "metadata": {
        "id": "N_JjAvkvnnlw"
      },
      "source": [
        "v1 = np.array([2,2,2])\n",
        "v2 = np.array([3,3,3])\n",
        "print(v1)\n",
        "print(v2)\n",
        "print(np.dot(v1,v2))"
      ],
      "execution_count": null,
      "outputs": []
    },
    {
      "cell_type": "markdown",
      "metadata": {
        "id": "ez6oBXngoYgj"
      },
      "source": [
        "#### Produto Vetorial\n",
        "\n",
        "O produto vetorial entre dois vetores gera um terceiro vetor ortogonal aos dois primeiros  \n",
        "> $V_3 = V_1 \\times V_2$\n",
        "\n",
        "Usando o Numpy, podemos calcular o produto vetorial da seguinte forma:"
      ]
    },
    {
      "cell_type": "code",
      "metadata": {
        "id": "9Ul-IpGDou3B"
      },
      "source": [
        "v1 = np.array([1,0,0])\n",
        "v2 = np.array([0,1,0])\n",
        "print(v1)\n",
        "print(v2)\n",
        "print(np.cross(v1,v2))"
      ],
      "execution_count": null,
      "outputs": []
    },
    {
      "cell_type": "markdown",
      "metadata": {
        "id": "Upfpqif2qBta"
      },
      "source": [
        "### Norma de um vetor\n",
        "A norma $L_{pth}$ de um vetor $V$ é dada por: \n",
        "\n",
        "> $\\left \\| V  \\right \\|_p = \\left ( \\sum_{i}^{n}\\left | v_i \\right |^p \\right ) ^\\frac{1}{p}$\n",
        "\n",
        "As duas normas mais comuns são as normas  L1 e L2.\n"
      ]
    },
    {
      "cell_type": "markdown",
      "metadata": {
        "id": "7AJgfz14qYxv"
      },
      "source": [
        "\n",
        "* A norma $L_1$  é calculada por:\n",
        ">  $\\left \\| V  \\right \\|_1 =  \\sum_{i}^{}\\left | v_i \\right | $ \n",
        "\n",
        "Um exemplo de como se calcula a norma L1 é: "
      ]
    },
    {
      "cell_type": "code",
      "metadata": {
        "id": "gt57T_F0qjzq"
      },
      "source": [
        "v = np.array([2,3,4,5])\n",
        "print(np.linalg.norm(v,ord=1))"
      ],
      "execution_count": null,
      "outputs": []
    },
    {
      "cell_type": "markdown",
      "metadata": {
        "id": "nl8c1kgpq-rg"
      },
      "source": [
        "* A norma $L_2$ é:\n",
        ">  $\\left \\| V  \\right \\|_2 =  \\left (\\sum_{i}^{}\\left | v_i \\right |² \\right ) ^\\frac{1}{2} = \\sqrt{\\sum_{i}^{}\\left | v_i \\right |²} $\n",
        "\n",
        "E um exemplo:\n"
      ]
    },
    {
      "cell_type": "code",
      "metadata": {
        "id": "5lItlBPorJAP"
      },
      "source": [
        "v = np.array([2,3,4,5])\n",
        "print(np.linalg.norm(v,ord=2))"
      ],
      "execution_count": null,
      "outputs": []
    },
    {
      "cell_type": "markdown",
      "metadata": {
        "id": "ezfSbY49vKQU"
      },
      "source": [
        "### Ortogonalidade\n",
        "Dois vetores são ortogonais (ou perpendiculares entre si) se o seu produto interno dá zero. "
      ]
    },
    {
      "cell_type": "code",
      "metadata": {
        "id": "0YmtGnNbvr50"
      },
      "source": [
        "v1=np.array([2,1,4])\n",
        "v2=np.array([6,0,-3]) # orthogonal to v1 if dot product = 0\n",
        "print(np.dot(v1,v2))"
      ],
      "execution_count": null,
      "outputs": []
    }
  ]
}