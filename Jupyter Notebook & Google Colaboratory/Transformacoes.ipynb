{
  "nbformat": 4,
  "nbformat_minor": 0,
  "metadata": {
    "colab": {
      "name": "Transformacoes.ipynb",
      "provenance": [],
      "collapsed_sections": []
    },
    "kernelspec": {
      "display_name": "Python 3",
      "language": "python",
      "name": "python3"
    }
  },
  "cells": [
    {
      "cell_type": "markdown",
      "metadata": {
        "id": "GgrVzGzU4_Tm"
      },
      "source": [
        "#Transformações Geométricas 2D e 3D"
      ]
    },
    {
      "cell_type": "markdown",
      "metadata": {
        "id": "sMIJUBIB5i8V"
      },
      "source": [
        "As funções abaixo são funcões auxiliares com o intuito de ajudar a plotar e visualizar alguns elementos.\n",
        "\n",
        "São definições que serão usadas mais adiante."
      ]
    },
    {
      "cell_type": "code",
      "metadata": {
        "id": "RiPcmqFUKTCI"
      },
      "source": [
        "#Complementary functions and imports \n",
        "\n",
        "import matplotlib.pyplot as plt\n",
        "from mpl_toolkits.mplot3d import Axes3D  \n",
        "%matplotlib inline\n",
        "import numpy as np\n",
        "\n",
        "def set_plots(ax=None,figure = None,figsize=(15,8),lim=[-2,2]):\n",
        "    if figure ==None:\n",
        "        figure = plt.figure(figsize=(15,8))\n",
        "    if ax==None:\n",
        "        ax=[]\n",
        "        new_axis = True\n",
        "    else:\n",
        "        new_axis=False\n",
        "    for i in range(2):\n",
        "        if new_axis:\n",
        "            ax.append(figure.add_subplot(1,2,i+1,projection='3d'))\n",
        "        ax[i].set_title(\"reference arrows example\")\n",
        "        ax[i].set_xlim(lim)\n",
        "        ax[i].set_xlabel(\"x axis\")\n",
        "        ax[i].set_ylim(lim)\n",
        "        ax[i].set_ylabel(\"y axis\")\n",
        "        ax[i].set_zlim(lim)\n",
        "        ax[i].set_zlabel(\"z axis\")\n",
        "    return ax\n",
        "\n",
        "#adding quivers to the plot\n",
        "def draw_arrows(point,base,axis,length=1.5):\n",
        "    for i in range(len(axis)):\n",
        "        axis[i].quiver(point[0],point[1],point[2],base[0][0],base[0][1],base[0][2],color='red',pivot='tail',  length=length)\n",
        "        axis[i].quiver(point[0],point[1],point[2],base[1][0],base[1][1],base[1][2],color='green',pivot='tail',  length=length)\n",
        "        axis[i].quiver(point[0],point[1],point[2],base[2][0],base[2][1],base[2][2],color='blue',pivot='tail',  length=length)\n",
        "\n",
        "    return axis"
      ],
      "execution_count": null,
      "outputs": []
    },
    {
      "cell_type": "markdown",
      "metadata": {
        "id": "1BIK6hOUKTCR"
      },
      "source": [
        "# Criando a base de um referencial tridimensional\n",
        "\n",
        "Definição dos vetores 3D e1, e2 e e3, além da origem (0,0,0) em coordenadas homogêneas.\n",
        "\n",
        "OBS: a variável base é uma lista de vetores (`np.array`)"
      ]
    },
    {
      "cell_type": "code",
      "metadata": {
        "id": "Pvt2GsAkKTCT"
      },
      "source": [
        "#base vector values\n",
        "e1 = np.array([1,0,0]) # X\n",
        "e2 = np.array([0,1,0]) # Y\n",
        "e3 = np.array([0,0,1]) # Z\n",
        "base = [e1,e2,e3]\n",
        "print ('Cartesian base: ',base)\n",
        "#origin point\n",
        "origin_point =np.array([0.0,0.0,0.0,1.0])\n",
        "print ('Origin: ',origin_point)\n"
      ],
      "execution_count": null,
      "outputs": []
    },
    {
      "cell_type": "markdown",
      "metadata": {
        "id": "SPABuWMWKTCZ"
      },
      "source": [
        "# Translação e Rotação"
      ]
    },
    {
      "cell_type": "markdown",
      "metadata": {
        "id": "K45ip2Vj4sCk"
      },
      "source": [
        "###Translação 2D"
      ]
    },
    {
      "cell_type": "code",
      "metadata": {
        "id": "tIfJN71W4yOF"
      },
      "source": [
        "# Displacements\n",
        "dx = 2\n",
        "dy = -1\n",
        "\n",
        "# Translation vector\n",
        "t_vector = np.array([dx,dy,1.0])\n",
        "\n",
        "# Translation matrix\n",
        "T = np.eye(3)\n",
        "T[:,-1]=t_vector.T\n",
        "print('Translation Matrix: \\n',T)\n",
        "\n",
        "# Or\n",
        "T1 = np.array([[1.0,0,dx],[0,1.0,dy],[0,0,1.0]])\n",
        "print('Translation Matrix: \\n',T1)\n",
        "\n",
        "# pts0 = [[x1,y1],[x2,y2]...[xn,yn]]\n",
        "pts0 = np.array([[3,1],[4,2],[-2,5],[0,-3]])\n",
        "print('Points:\\n ',pts0)\n",
        "\n",
        "\n",
        "# Preparing the points to be in homogeneous coordinates\n",
        "\n",
        "pts0 = pts0.T\n",
        "pts0 = np.vstack([pts0,np.ones(pts0.shape[1])])\n",
        "print('Points:\\n ',pts0)\n",
        "\n",
        "\n",
        "# Translating the points\n",
        "\n",
        "pts1 = np.dot(T,pts0)\n",
        "print('Translated Points:\\n ',pts1)\n",
        "\n",
        "# Ploting the original points as red '*' \n",
        "plt.figure()\n",
        "ax0 = plt.axes()\n",
        "ax0.plot(pts0[0,:],pts0[1,:],'*r')\n",
        "ax0.grid()\n",
        "ax0.set_aspect('equal')\n",
        "\n",
        "\n",
        "# Ploting the new points as blue squares \n",
        "ax0.plot(pts1[0,:],pts1[1,:],'s',color='#0D04A8')"
      ],
      "execution_count": null,
      "outputs": []
    },
    {
      "cell_type": "markdown",
      "metadata": {
        "id": "8LChA_tA8Urz"
      },
      "source": [
        "### Translação 3D\n",
        "\n",
        "Complete o código nos locais indicados com `##############` para fazer a translação de pontos tridimensionais.\n"
      ]
    },
    {
      "cell_type": "code",
      "metadata": {
        "id": "hd2H5a-KKTCb"
      },
      "source": [
        "# Displacements\n",
        "dx = 2\n",
        "dy = -1\n",
        "dz = 3\n",
        "\n",
        "############ Complete ##################\n",
        "# Translation vector \n",
        "t_vector = np.array ([dx, dy, dz, 1])\n",
        "print('t_vector \\n', t_vector)\n",
        "# Create the translation matrix\n",
        "T = np.eye(4)\n",
        "print(T)\n",
        "T[:,-1] = t_vector.T\n",
        "print('Translation Matrix: \\n',T)\n",
        "###################################\n",
        "\n",
        "\n",
        "pts0 = np.array([[3,1,-2], [4,2,1], [-2,5,4], [0,-3,-1]])\n",
        "print('Points:\\n ',pts0)\n",
        "\n",
        "###################  Complete  #################################\n",
        "# Preparing the points to be in homogeneous coordinates\n",
        "pts0 = pts0.T\n",
        "pts0 = np.vstack((pts0,np.ones(pts0.shape[1])))\n",
        "print('Points:\\n ',pts0)\n",
        "#################################\n",
        "\n",
        "# Translating the points\n",
        "pts1 = np.dot(T,pts0)\n",
        "\n",
        "###############  Complete #######################\n",
        "# Ploting the original points as red '*' \n",
        "plt.figure()\n",
        "ax0 = plt.axes(projection='3d')\n",
        "ax0.plot3D(pts0[0,:], pts0[1,:], pts0[2,:], 'r*')\n",
        "ax0.grid()\n",
        "\n",
        "# Ploting the new points as blue '*'\n",
        "ax0.plot3D(pts1[0,:], pts1[1,:], pts1[2,:], '*b')\n",
        "\n",
        "###################################################"
      ],
      "execution_count": null,
      "outputs": []
    },
    {
      "cell_type": "markdown",
      "metadata": {
        "id": "hcMXbr5S-WyO"
      },
      "source": [
        "### Representando a Translação com eixos 3D"
      ]
    },
    {
      "cell_type": "code",
      "metadata": {
        "id": "EAv1gs7T9Tso"
      },
      "source": [
        "\n",
        "# Displacements\n",
        "dx = 1\n",
        "dy = 1\n",
        "dz = 1\n",
        "\n",
        "# Translation vector - Complete\n",
        "t_vector = np.array([dx,dy,dz,1.0])\n",
        "\n",
        "# Translation matrix\n",
        "T = np.eye(4)\n",
        "T[:,-1]=t_vector.T\n",
        "print('Translation Matrix: \\n',T)\n",
        "\n",
        "#original point \n",
        "axis = set_plots(lim=[0,5])\n",
        "axis = draw_arrows(origin_point,base,axis)\n",
        "\n",
        "#translation as a multiplication using homogeneos coordinates\n",
        "#changed length only for representation\n",
        "\n",
        "translated_point = np.dot(T,origin_point)\n",
        "print('Origin (0,0,0) translate by [1,1,1]:')\n",
        "print(translated_point)\n",
        "axis = draw_arrows(translated_point,base,axis,length=1.0)\n",
        "#set camera view options of a plot\n",
        "axis[0].view_init(elev=10,azim=15)\n",
        "axis[0].dist=10\n",
        "\n",
        "# Incrementing the translation\n",
        "\n",
        "T[:,-1]=np.array([2,2,2,1]).T\n",
        "#changed length only for representation\n",
        "translated_point_mult = np.dot(T,origin_point)\n",
        "print('Origin (0,0,0) translated by [2,2,2]:')\n",
        "print(translated_point_mult)\n",
        "axis = draw_arrows(translated_point_mult,base,axis,length=0.5)\n",
        "\n",
        "\n",
        "#set camera view options of a plot\n",
        "axis[1].view_init(elev=90,azim=0)\n",
        "axis[1].dist=7\n",
        "\n",
        "plt.show()"
      ],
      "execution_count": null,
      "outputs": []
    },
    {
      "cell_type": "markdown",
      "metadata": {
        "id": "idF3zNAQADgy"
      },
      "source": [
        "### Rotação 2D"
      ]
    },
    {
      "cell_type": "code",
      "metadata": {
        "id": "aaJasXNDAJ8D"
      },
      "source": [
        "# Angle of Rotation\n",
        "ang = 45\n",
        "ang_rad = (45/180)*np.pi\n",
        "\n",
        "# Rotation matrix\n",
        "R = np.eye(3)\n",
        "R[0,0] = np.cos(ang_rad)\n",
        "R[0,1] = -np.sin(ang_rad)\n",
        "R[1,0] = np.sin(ang_rad)\n",
        "R[1,1] = np.cos(ang_rad)\n",
        "\n",
        "print('Rotation Matrix: \\n',R)\n",
        "\n",
        "\n",
        "pts0 = np.array([[3,1],[5,1],[5,3],[3,3],[3,1]])\n",
        "print('Points:\\n ',pts0)\n",
        "\n",
        "\n",
        "# Preparing the points to be in homogeneous coordinates\n",
        "\n",
        "pts0 = pts0.T\n",
        "pts0 = np.vstack([pts0,np.ones(pts0.shape[1])])\n",
        "print('Points:\\n ',pts0)\n",
        "\n",
        "# Rotating the points\n",
        "\n",
        "pts1 = np.dot(R,pts0)\n",
        "\n",
        "# Ploting the original points as a red line \n",
        "plt.figure()\n",
        "ax0 = plt.axes()\n",
        "ax0.plot(pts0[0,:],pts0[1,:],color='#A50088')\n",
        "ax0.grid()\n",
        "ax0.set_aspect('equal')\n",
        "\n",
        "\n",
        "# Ploting the new points as a blue line \n",
        "ax0.plot(pts1[0,:],pts1[1,:],'--b')\n"
      ],
      "execution_count": null,
      "outputs": []
    },
    {
      "cell_type": "markdown",
      "metadata": {
        "id": "7yXmbwyIB4Fl"
      },
      "source": [
        "### Rotação 3D\n",
        "\n",
        "Complete o código nos trechos indicados com `###############` para fazer a rotação 3D no eixo Z."
      ]
    },
    {
      "cell_type": "code",
      "metadata": {
        "id": "UUMGLPt5CAgw"
      },
      "source": [
        "# Angle of Rotation\n",
        "ang = 45\n",
        "ang_rad = (45/180)*np.pi\n",
        "\n",
        "\n",
        "##########  Complete ########\n",
        "# Rotation matrix\n",
        "R = np.eye(4)\n",
        "R[0,0] = np.cos(ang_rad)\n",
        "R[0,1] = -np.sin(ang_rad)\n",
        "'''R[0,2] = 0'''\n",
        "R[1,0] = np.sin(ang_rad)\n",
        "R[1,1] = np.cos(ang_rad)\n",
        "'''R[1,2] = 0\n",
        "R[2,0] = 0\n",
        "R[2,1] = 0\n",
        "R[2,2] = 1'''\n",
        "print('Rotation Matrix: \\n',R)\n",
        "###########################\n",
        "\n",
        "pts0 = np.array([[3,1,4],[5,1,4],[5,3,4],[3,3,4],[3,1,4]])\n",
        "print('Points:\\n ',pts0)\n",
        "\n",
        "########## Complete ######################\n",
        "# Preparing the points to be in homogeneous coordinates\n",
        "\n",
        "pts0 = pts0.T\n",
        "pts0 = np.vstack((pts0, np.ones(pts0.shape[1])))\n",
        "print('Points:\\n ',pts0)\n",
        "\n",
        "######## Complete  #########\n",
        "# Rotating the points\n",
        "pts1 = np.dot(R, pts0)\n",
        "#########################\n",
        "\n",
        "\n",
        "################  Complete  #############################\n",
        "# Ploting the original points as a red line \n",
        "plt.figure()\n",
        "ax0 = plt.axes(projection='3d')\n",
        "ax0.plot3D(pts0[0,:], pts0[1,:], pts0[2,:], color='r')\n",
        "ax0.grid()\n",
        "\n",
        "\n",
        "# Ploting the new points as a blue line \n",
        "ax0.plot3D(pts1[0,:], pts1[1,:], pts1[2,:], color='b')\n",
        "#########################################"
      ],
      "execution_count": null,
      "outputs": []
    },
    {
      "cell_type": "markdown",
      "metadata": {
        "id": "snYdreZ7KTCi"
      },
      "source": [
        "### Definindo funções para criar rotações 3D\n",
        "\n",
        "Vamos usar tais funções para rotacionar os eixos de um referencial.\n",
        "Além de rotacionar, o referencial também será transladado.\n",
        "\n",
        "Há uma função de rotação em torno do eixo Z como exemplo. Crie as funções de rotação para os outros eixos X e Y. Crie também a função para translação. Os locais onde você deverá adicionar suas funções ou alterar o código atual estão indicados com '###################'\n",
        "\n",
        "Para facilitar as matrizes de rotação em torno de cada eixo são:\n",
        "\n",
        ">\n",
        "\n",
        "$R_x(\\theta) = \\begin{bmatrix} \n",
        "1 & 0 & 0 & 0\\\\\n",
        "0 & cos(\\theta) & -sen(\\theta) & 0 \\\\\n",
        "0 & sen(\\theta) & cos(\\theta) & 0 \\\\\n",
        "0 & 0 & 0 & 1 \n",
        "\\end{bmatrix}$\n",
        "\n",
        "$R_y(\\theta) = \\begin{bmatrix} \n",
        "cos(\\theta) & 0 & sen(\\theta) & 0 \\\\\n",
        "0 & 1 & 0 & 0 \\\\\n",
        "-sen(\\theta) & 0 & cos(\\theta) & 0 \\\\\n",
        "0 & 0 & 0 & 1 \n",
        "\\end{bmatrix}$\n",
        "\n",
        "$R_z(\\theta) = \\begin{bmatrix} \n",
        "cos(\\theta) & -sen(\\theta) & 0 & 0 \\\\\n",
        "sen(\\theta) & cos(\\theta) & 0  & 0\\\\\n",
        "0 & 0 & 1 & 0 \\\\\n",
        "0 & 0 & 0 & 1 \n",
        "\\end{bmatrix}$\n",
        "\n"
      ]
    },
    {
      "cell_type": "code",
      "metadata": {
        "id": "iICR0WIKKTCk"
      },
      "source": [
        "from math import pi,cos,sin\n",
        "\n",
        "# Function for building the Rotation Matrix around the Z-axes\n",
        "def z_rotation(angle):\n",
        "    rotation_matrix=np.array([[cos(angle),-sin(angle),0,0],[sin(angle),cos(angle),0,0],[0,0,1,0],[0,0,0,1]])\n",
        "    return rotation_matrix\n",
        "################################\n",
        "# Create here the functions for Rotation around the X and Y axis, and for translation\n",
        "\n",
        "\n",
        "\n",
        "\n",
        "\n",
        "#################################\n",
        "    \n",
        "rotation_angle = pi/2 #in radians\n",
        "Rz = z_rotation(rotation_angle)\n",
        "print('Rz:\\n',Rz,'\\n')\n",
        "\n",
        "\n",
        "#original point \n",
        "axis = set_plots(lim=[-5,5])\n",
        "axis = draw_arrows(origin_point,base,axis)\n",
        "\n",
        "\n",
        "########################\n",
        "# After you create the function for translation, substitute this code with a function call\n",
        "translation = np.array([3,3,3,1])\n",
        "T = np.eye(4)\n",
        "T[:,-1]=translation.T\n",
        "#########################\n",
        "\n",
        "\n",
        "\n",
        "print('Translation matrix:')\n",
        "print(T,'\\n')\n",
        "\n",
        "R = Rz\n",
        "\n",
        "rotated_point_mult = np.dot(R,origin_point)\n",
        "\n",
        "print('Rotating the origin does not change anything',rotated_point_mult)\n",
        "print(rotated_point_mult.shape)\n",
        "\n",
        "# Rotating the base attached to the point\n",
        "\n",
        "e1_rotated = np.dot(R,np.hstack([np.array(e1), [0]]))\n",
        "e2_rotated = np.dot(R,np.hstack([np.array(e2), [0]]))\n",
        "e3_rotated = np.dot(R,np.hstack([np.array(e3), [0]]))\n",
        "base_rotated = [e1_rotated[0:3],e2_rotated[0:3],e3_rotated[0:3]]\n",
        "\n",
        "print('Rotated base:')\n",
        "print(base_rotated)\n",
        "\n",
        "#Translate the point\n",
        "\n",
        "translated_point_mult = np.dot(T,rotated_point_mult.T)\n",
        "\n",
        " \n",
        "#changed length only for representation\n",
        "axis = draw_arrows(translated_point_mult,base_rotated,axis,length=1.0)\n",
        "\n",
        "\n",
        "#set camera view options of a plot\n",
        "axis[1].view_init(elev=90,azim=0)\n",
        "axis[1].dist=7\n",
        "\n",
        "plt.show()\n"
      ],
      "execution_count": null,
      "outputs": []
    },
    {
      "cell_type": "markdown",
      "metadata": {
        "id": "SFuWSyqSnidA"
      },
      "source": [
        "### Desenhando um Objeto "
      ]
    },
    {
      "cell_type": "code",
      "metadata": {
        "id": "1GhEk_2xneqE"
      },
      "source": [
        "#Creating a house\n",
        "\n",
        "house = np.array([[0,         0,         0],\n",
        "         [0,  -10.0000,         0],\n",
        "         [0, -10.0000,   12.0000],\n",
        "         [0,  -10.4000,   11.5000],\n",
        "         [0,   -5.0000,   16.0000],\n",
        "         [0,         0,   12.0000],\n",
        "         [0,    0.5000,   11.4000],\n",
        "         [0,         0,   12.0000],\n",
        "         [0,         0,         0],\n",
        "  [-12.0000,         0,         0],\n",
        "  [-12.0000,   -5.0000,         0],\n",
        "  [-12.0000,  -10.0000,         0],\n",
        "         [0,  -10.0000,         0],\n",
        "         [0,  -10.0000,   12.0000],\n",
        "[-12.0000,  -10.0000,   12.0000],\n",
        "  [-12.0000,         0,   12.0000],\n",
        "         [0,         0,   12.0000],\n",
        "         [0,  -10.0000,   12.0000],\n",
        "         [0,  -10.5000,   11.4000],\n",
        "  [-12.0000,  -10.5000,   11.4000],\n",
        "  [-12.0000,  -10.0000,   12.0000],\n",
        "  [-12.0000,   -5.0000,   16.0000],\n",
        "         [0,   -5.0000,   16.0000],\n",
        "         [0,    0.5000,   11.4000],\n",
        "  [-12.0000,    0.5000,   11.4000],\n",
        "  [-12.0000,         0,   12.0000],\n",
        "  [-12.0000,   -5.0000,   16.0000],\n",
        "  [-12.0000,  -10.0000,   12.0000],\n",
        "  [-12.0000,  -10.0000,         0],\n",
        "  [-12.0000,   -5.0000,         0],\n",
        "  [-12.0000,         0,         0],\n",
        "  [-12.0000,         0,   12.0000],\n",
        "  [-12.0000,         0,         0]])\n",
        "\n",
        "house = np.transpose(house)\n",
        "\n",
        "#Plotting the house\n",
        "\n",
        "figure = plt.figure(figsize=(10,10))\n",
        "ax0 = plt.axes(projection='3d')\n",
        "ax0.plot3D(house[0,:], house[1,:], house[2,:], 'red')\n",
        "\n",
        "#Representing the object in homogeneous coordinates\n",
        "#create row of ones\n",
        "num_columns = np.size(house,1)\n",
        "ones_line = np.ones(num_columns)\n",
        "\n",
        "\n",
        "#add to the house matrix to represent the house in homogeneous coordinates\n",
        "house = np.vstack([house, ones_line])\n"
      ],
      "execution_count": null,
      "outputs": []
    },
    {
      "cell_type": "markdown",
      "metadata": {
        "id": "vpB6v25Xu4e1"
      },
      "source": [
        "### Movendo o objeto"
      ]
    },
    {
      "cell_type": "code",
      "metadata": {
        "id": "5RRvI6Ccu358"
      },
      "source": [
        "from math import pi,cos,sin\n",
        "\n",
        "# Function for building the Rotation Matrix around the Z-axes\n",
        "def z_rotation(angle):\n",
        "    rotation_matrix=np.array([[cos(angle),-sin(angle),0,0],[sin(angle),cos(angle),0,0],[0,0,1,0],[0,0,0,1]])\n",
        "    return rotation_matrix\n",
        "\n",
        "# Useful function to create an 'equal' aspect ratio for 3D plots\n",
        "def axisEqual3D(ax):\n",
        "    extents = np.array([getattr(ax, 'get_{}lim'.format(dim))() for dim in 'xyz'])\n",
        "    sz = extents[:,1] - extents[:,0]\n",
        "    centers = np.mean(extents, axis=1)\n",
        "    maxsize = max(abs(sz))\n",
        "    r = maxsize/2\n",
        "    for ctr, dim in zip(centers, 'xyz'):\n",
        "        getattr(ax, 'set_{}lim'.format(dim))(ctr - r, ctr + r)\n",
        "\n",
        "\n",
        "#Define the translation matrix\n",
        "translation = np.array([10.0,10.0,10.0,0.0])\n",
        "\n",
        "T = np.eye(4)\n",
        "T[:,-1]=translation.T\n",
        "T[3,3]=1\n",
        "#print('Translation Matrix: \\n',T)\n",
        "\n",
        "#Translate the house\n",
        "new_house = np.dot(T,house)\n",
        "\n",
        "figure = plt.figure(figsize=(30,15))\n",
        "ax0 = figure.add_subplot(1,2,1, projection='3d')\n",
        "#plot original house in red\n",
        "ax0.plot3D(house[0,:], house[1,:], house[2,:], 'red')\n",
        "#plot new house in blue\n",
        "ax0.plot3D(new_house[0,:],new_house[1,:],new_house[2,:], 'blue')\n",
        "axisEqual3D(ax0)\n",
        "\n",
        "\n",
        "#Rotate the house along the z-axis\n",
        "rotation_angle = pi/4 #in radians\n",
        "Rz = z_rotation(rotation_angle)\n",
        "new_house2 = np.dot(Rz,new_house)\n",
        "ax1 = figure.add_subplot(1,2,2, projection='3d')\n",
        "#plot original house in red\n",
        "ax1.plot3D(house[0,:], house[1,:], house[2,:], 'red')\n",
        "ax1.plot3D(new_house2[0,:],new_house2[1,:],new_house2[2,:], color='#0D63A0')\n",
        "axisEqual3D(ax1)"
      ],
      "execution_count": null,
      "outputs": []
    }
  ]
}