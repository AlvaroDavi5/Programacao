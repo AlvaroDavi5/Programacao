{
  "nbformat": 4,
  "nbformat_minor": 0,
  "metadata": {
    "colab": {
      "name": "Graficos_3d_2d_matplotlib.ipynb",
      "provenance": [],
      "collapsed_sections": []
    },
    "kernelspec": {
      "display_name": "Python 3",
      "language": "python",
      "name": "python3"
    }
  },
  "cells": [
    {
      "cell_type": "markdown",
      "metadata": {
        "id": "view-in-github"
      },
      "source": [
        "<a href=\"https://colab.research.google.com/github/labviros/computer-vision-topics/blob/version2020/lesson02-matplotlib/3d_2d_plots_matplotlib.ipynb\" target=\"_parent\"><img src=\"https://colab.research.google.com/assets/colab-badge.svg\" alt=\"Open In Colab\"/></a>"
      ]
    },
    {
      "cell_type": "markdown",
      "metadata": {
        "id": "9qtyLPDGAQyH"
      },
      "source": [
        "# Plotando em  Matplotlib\n",
        "\n",
        "Nesse notebook, vamos ver o básico para criarmos gráficos em 2D e 3D usando a biblioteca Matplotlib."
      ]
    },
    {
      "cell_type": "markdown",
      "metadata": {
        "id": "6Ww3FxhJlflo"
      },
      "source": [
        "## Criando o objeto eixos \n",
        "\n",
        "* Para criar gráficos bidimensionais usamos direteamente o  `matplotlib.pyplot`\n",
        "* Para criar gráficos tridimensionais, precisamos importar o toolkit  `mplot3d` e usar o  `projection='3d'`, conforme será mostrado abaixo.\n",
        "* O `%matplotlib` é uma \"magic function\", que permite que a saída dos comandos de `plot` apareçam logo abaixo da célula de código que gerou os comandos.\n",
        "* Os gráficos produzidos ficarão armazenados no documento do notebook. Para mais informações, veja:  [How to make IPython notebook matplotlib plot inline ](https://stackoverflow.com/questions/19410042/how-to-make-ipython-notebook-matplotlib-plot-inline).\n",
        "\n",
        "* Para todos gráficos de Matplotlib, começamos criando uma figura e os eixos. \n",
        "\n",
        "Vejamos alguns exemplos abaixo:"
      ]
    },
    {
      "cell_type": "code",
      "metadata": {
        "id": "rrQud4dffC4m"
      },
      "source": [
        "import matplotlib.pyplot as plt\n",
        "from mpl_toolkits.mplot3d import Axes3D \n",
        "\n",
        "%matplotlib inline\n",
        "\n",
        "# Creating a separate 2D figure\n",
        "fig = plt.figure()\n",
        "ax0 = plt.axes()\n",
        "ax0.grid()\n",
        "ax0.set_aspect('equal')\n",
        "\n",
        "# Creating a separate 3D figure\n",
        "fig = plt.figure(figsize=[10,10])\n",
        "ax0 = plt.axes(projection='3d')\n",
        "\n",
        "\n",
        "\n",
        "\n",
        "# Creating subfigures\n",
        "fig = plt.figure(figsize=[10,5]) # We can also define a size for the figure\n",
        "ax1 = fig.add_subplot(1,2,1)\n",
        "ax1.set_aspect('equal')\n",
        "ax1.grid(False)\n",
        "ax2 = fig.add_subplot(1,2,2, projection='3d')\n",
        "ax2.set_xlabel(\"Eixo X\")\n",
        "ax2.set_ylabel(\"Eixo Y\")\n",
        "ax2.set_zlabel(\"Eixo Z\")\n",
        "\n"
      ],
      "execution_count": null,
      "outputs": []
    },
    {
      "cell_type": "markdown",
      "metadata": {
        "id": "F5hfy7r2-vxg"
      },
      "source": [
        "Em Matplotlib, o elemento `figure` pode ser entendido como um container que guarda todos os objetos representando eixos, gráficos, texto e etiquetas/legendas.\n",
        "\n",
        "O eixo `axes` (uma instância da classe `plt.Axes`) é o que está mostrado acima: uma *bounding box* 2D ou 3D com marcações e legendas, que conterá os elementos do gráfico que produzem sua visualização.\n",
        "\n",
        "É dentro da área dos eixos onde os gráficos são desenhados."
      ]
    },
    {
      "cell_type": "markdown",
      "metadata": {
        "id": "BcuiMZFa_VgD"
      },
      "source": [
        "## Pontos e Linhas 3D e 2D\n",
        "* O gráfico 2D mais simples é uma linha ou conjunto de pontos criados a partir de coordenadas (x, y). Esses gráficos podem ser criados usando as funções `ax.plot` e `ax.scatter`.\n",
        "* Os gráficos 3D são normalmente criados a partir de conjuntos de coordenadas (x, y, z). Tais gráficos podem ser criados usando as funções `ax.plot3D` e `ax.scatter3D`.\n",
        "* As figuras a seguir apresentam dois tipos de gráficos: o tipo que desenho uma linha entre todos os pontos e outro que desenha apenas os pontos, sem fazer a sua conexão.\n",
        "* Repare em algumas funcionalidades para ligar e desligar a grade de marcação (*grids*), mudar o aspecto do gráfico e trocar o seu ponto de visualização, no caso 3D.\n"
      ]
    },
    {
      "cell_type": "code",
      "metadata": {
        "id": "yZNcdgH6ItQZ"
      },
      "source": [
        "\n",
        "#Complementary functions\n",
        "import numpy as np\n",
        "# Data for a three-dimensional line\n",
        "# Array of z-coordinates\n",
        "zline = np.linspace(0, 15, 1000)\n",
        "# Array of x-coordinates calculated as the sine of z-values\n",
        "xline = np.sin(zline)\n",
        "# Array of y-coordinates calculated as the cosine of z-values\n",
        "yline = np.cos(zline)\n",
        "\n",
        "# Data for three-dimensional scattered points\n",
        "zdata = 15 * np.random.random(100)  # numpy.random.random returns random floats in the half-open interval [0.0, 1.0) \n",
        "xdata = np.sin(zdata) + 0.1 * np.random.randn(100) # numpy.random.randn returns a sample (or samples) from the “standard normal” distribution\n",
        "ydata = np.cos(zdata) + 0.1 * np.random.randn(100)\n"
      ],
      "execution_count": null,
      "outputs": []
    },
    {
      "cell_type": "code",
      "metadata": {
        "id": "_uNSMtz5Aeo9"
      },
      "source": [
        "\n",
        "fig = plt.figure(figsize=(20,20))\n",
        "\n",
        "# 3D plot\n",
        "ax1 = fig.add_subplot(2,2,1,projection='3d')\n",
        "ax1.set_title(\"3d view\")\n",
        "ax1.plot3D(xline, yline, zline, 'gray')\n",
        "ax1.scatter3D(xdata, ydata, zdata, c=zdata, cmap='Greens')\n",
        "\n",
        "# 2D plot\n",
        "ax2 = fig.add_subplot(2,2,2)\n",
        "ax2.set_title(\"x-z view\")\n",
        "ax2.plot(xline,zline,'gray')\n",
        "#ax2.plot(xdata,zdata,'r*')\n",
        "ax2.scatter(xdata,zdata,c=xdata,cmap='Reds')\n",
        "ax2.set_aspect('equal')\n",
        "\n",
        "# 2D plot\n",
        "ax3 = fig.add_subplot(2,2,3)\n",
        "ax3.set_title(\"x-y view\")\n",
        "ax3.set_xlabel(\"X - Axes\")\n",
        "ax3.set_ylabel(\"Y - Axes\")\n",
        "ax3.plot(xline,yline,'gray')\n",
        "ax3.scatter(xdata,ydata,c=ydata,cmap='Blues')\n",
        "ax3.grid(True)\n",
        "\n",
        "# 2D plot\n",
        "ax4 = fig.add_subplot(2,2,4)\n",
        "ax4.set_title(\"y-z view\")\n",
        "ax4.plot(yline,zline,'gray')\n",
        "ax4.scatter(ydata,zdata,c=zdata,cmap='Greens')\n",
        "ax4.grid()\n",
        "\n",
        "# 3D plot\n",
        "plt.figure(figsize=[10,10])\n",
        "ax5 = plt.axes(projection='3d')\n",
        "ax5.set_title(\"3d view\")\n",
        "ax5.plot3D(xline, yline, zline, 'magenta')\n",
        "ax5.scatter3D(xdata, ydata, zdata, c=zdata, cmap='Oranges')\n",
        "ax5.view_init(elev=30,azim=60)\n",
        "ax5.set_xlabel(\"X-Axes\")\n",
        "ax5.set_ylabel(\"Y-Axes\")\n",
        "ax5.set_zlabel(\"Z-Axes\")\n",
        "\n",
        "plt.show()\n"
      ],
      "execution_count": null,
      "outputs": []
    },
    {
      "cell_type": "markdown",
      "metadata": {
        "id": "AKUD6nB6J0RZ"
      },
      "source": [
        "##Plotando Vetores\n",
        "\n",
        "* Para plotar vetores usamos a função `ax.quiver`\n",
        "* Essa função pode ser usada tanto com gráficos 2D e 3D"
      ]
    },
    {
      "cell_type": "code",
      "metadata": {
        "id": "MtIKPv0WAGlw"
      },
      "source": [
        "X = np.arange(-10, 10, 1)\n",
        "Y = np.arange(-10, 10, 1)\n",
        "U, V = np.meshgrid(X, Y)\n",
        "\n",
        "fig = plt.figure(figsize=(7,10))\n",
        "ax = fig.add_subplot()\n",
        "q = ax.quiver(X, Y, U, V)\n",
        "ax.set_aspect('equal')\n",
        "\n",
        "plt.show()"
      ],
      "execution_count": null,
      "outputs": []
    },
    {
      "cell_type": "markdown",
      "metadata": {
        "id": "Qsvlw9yA0xp4"
      },
      "source": [
        "## Usando quiver para desenhar eixos coordenados"
      ]
    },
    {
      "cell_type": "code",
      "metadata": {
        "id": "v3jZckr6Irea"
      },
      "source": [
        "#defining the figure and titles\n",
        "\n",
        "fig_quivers = plt.figure(figsize=(10,5))\n",
        "quiver_ax=[]\n",
        "\n",
        "for i in range(2):\n",
        "    quiver_ax.append(fig_quivers.add_subplot(1,2,i+1,projection='3d'))\n",
        "    quiver_ax[i].set_title(\"reference arrows example\")\n",
        "    quiver_ax[i].set_xlim([-2,2])\n",
        "    quiver_ax[i].set_xlabel(\"x axis\")\n",
        "    quiver_ax[i].set_ylim([-2,2])\n",
        "    quiver_ax[i].set_ylabel(\"y axis\")\n",
        "    quiver_ax[i].set_zlim([-2,2])\n",
        "    quiver_ax[i].set_zlabel(\"z axis\")\n",
        "\n",
        "#base vector values\n",
        "e1 = np.array([1,0,0]) # X\n",
        "e2 = np.array([0,1,0]) # Y\n",
        "e3 = np.array([0,0,1]) # Z\n",
        "\n",
        "#origin point\n",
        "point =np.array([0,0,0,1])\n",
        "\n",
        "#adding quivers to the plot\n",
        "for i in range(len(quiver_ax)):\n",
        "    quiver_ax[i].quiver(point[0],point[1],point[2],e1,0,0,color='red',pivot='tail',  length=1.5)\n",
        "    quiver_ax[i].quiver(point[0],point[1],point[2],0,e2,0,color='green',pivot='tail',  length=1.5)\n",
        "    quiver_ax[i].quiver(point[0],point[1],point[2],0,0,e3,color='blue',pivot='tail',  length=1.5)\n",
        "\n",
        "#set camera view options of a plot\n",
        "quiver_ax[1].view_init(elev=90,azim=0)\n",
        "quiver_ax[1].dist=7\n",
        "\n",
        "plt.show()\n",
        "\n"
      ],
      "execution_count": null,
      "outputs": []
    }
  ]
}